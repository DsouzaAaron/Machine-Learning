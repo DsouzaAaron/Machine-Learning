{
 "cells": [
  {
   "cell_type": "markdown",
   "id": "190064c8",
   "metadata": {},
   "source": [
    "# Analysis of  'wine'  dataset using Multi-Layer  Perceptron  Classifier  model"
   ]
  },
  {
   "cell_type": "markdown",
   "id": "7e49ffd0",
   "metadata": {},
   "source": [
    "MetaData-\n",
    "These data are the results of a chemical analysis of wines grown in the same region in Italy but derived from three different cultivars. The analysis determined the quantities of 13 constituents found in each of the three types of wines.\n",
    "\n",
    "\n",
    "<ol>\n",
    "    <li>Alcohol</li>\n",
    "    <li>Malic acid</li>\n",
    "    <li>Ash</li>\n",
    "    <li>Alcalinity of ash</li>\n",
    "    <li>Magnesium</li>\n",
    "    <li>Total phenols</li>\n",
    "    <li>Flavanoids</li>\n",
    "    <li>Nonflavanoid phenols</li>\n",
    "    <li>Proanthocyanins</li>\n",
    "    <li>Color intensity</li>\n",
    "    <li>Hue</li>\n",
    "    <li>OD280/OD315 of diluted wines</li>\n",
    "    <li>Proline</li>\n",
    "</ol>\n",
    "    "
   ]
  },
  {
   "cell_type": "code",
   "execution_count": 1,
   "id": "767fb447",
   "metadata": {},
   "outputs": [
    {
     "data": {
      "text/html": [
       "<div>\n",
       "<style scoped>\n",
       "    .dataframe tbody tr th:only-of-type {\n",
       "        vertical-align: middle;\n",
       "    }\n",
       "\n",
       "    .dataframe tbody tr th {\n",
       "        vertical-align: top;\n",
       "    }\n",
       "\n",
       "    .dataframe thead th {\n",
       "        text-align: right;\n",
       "    }\n",
       "</style>\n",
       "<table border=\"1\" class=\"dataframe\">\n",
       "  <thead>\n",
       "    <tr style=\"text-align: right;\">\n",
       "      <th></th>\n",
       "      <th>Class</th>\n",
       "      <th>Alcohol</th>\n",
       "      <th>Malic acid</th>\n",
       "      <th>Ash</th>\n",
       "      <th>Alcalinity of ash</th>\n",
       "      <th>Magnesium</th>\n",
       "      <th>Total phenols</th>\n",
       "      <th>Flavanoids</th>\n",
       "      <th>Nonflavanoid phenols</th>\n",
       "      <th>Proanthocyanins</th>\n",
       "      <th>Color intensity</th>\n",
       "      <th>Hue</th>\n",
       "      <th>OD280/OD315 of diluted wines</th>\n",
       "      <th>Proline</th>\n",
       "    </tr>\n",
       "  </thead>\n",
       "  <tbody>\n",
       "    <tr>\n",
       "      <th>0</th>\n",
       "      <td>1</td>\n",
       "      <td>14.23</td>\n",
       "      <td>1.71</td>\n",
       "      <td>2.43</td>\n",
       "      <td>15.6</td>\n",
       "      <td>127</td>\n",
       "      <td>2.80</td>\n",
       "      <td>3.06</td>\n",
       "      <td>0.28</td>\n",
       "      <td>2.29</td>\n",
       "      <td>5.64</td>\n",
       "      <td>1.04</td>\n",
       "      <td>3.92</td>\n",
       "      <td>1065</td>\n",
       "    </tr>\n",
       "    <tr>\n",
       "      <th>1</th>\n",
       "      <td>1</td>\n",
       "      <td>13.20</td>\n",
       "      <td>1.78</td>\n",
       "      <td>2.14</td>\n",
       "      <td>11.2</td>\n",
       "      <td>100</td>\n",
       "      <td>2.65</td>\n",
       "      <td>2.76</td>\n",
       "      <td>0.26</td>\n",
       "      <td>1.28</td>\n",
       "      <td>4.38</td>\n",
       "      <td>1.05</td>\n",
       "      <td>3.40</td>\n",
       "      <td>1050</td>\n",
       "    </tr>\n",
       "    <tr>\n",
       "      <th>2</th>\n",
       "      <td>1</td>\n",
       "      <td>13.16</td>\n",
       "      <td>2.36</td>\n",
       "      <td>2.67</td>\n",
       "      <td>18.6</td>\n",
       "      <td>101</td>\n",
       "      <td>2.80</td>\n",
       "      <td>3.24</td>\n",
       "      <td>0.30</td>\n",
       "      <td>2.81</td>\n",
       "      <td>5.68</td>\n",
       "      <td>1.03</td>\n",
       "      <td>3.17</td>\n",
       "      <td>1185</td>\n",
       "    </tr>\n",
       "    <tr>\n",
       "      <th>3</th>\n",
       "      <td>1</td>\n",
       "      <td>14.37</td>\n",
       "      <td>1.95</td>\n",
       "      <td>2.50</td>\n",
       "      <td>16.8</td>\n",
       "      <td>113</td>\n",
       "      <td>3.85</td>\n",
       "      <td>3.49</td>\n",
       "      <td>0.24</td>\n",
       "      <td>2.18</td>\n",
       "      <td>7.80</td>\n",
       "      <td>0.86</td>\n",
       "      <td>3.45</td>\n",
       "      <td>1480</td>\n",
       "    </tr>\n",
       "    <tr>\n",
       "      <th>4</th>\n",
       "      <td>1</td>\n",
       "      <td>13.24</td>\n",
       "      <td>2.59</td>\n",
       "      <td>2.87</td>\n",
       "      <td>21.0</td>\n",
       "      <td>118</td>\n",
       "      <td>2.80</td>\n",
       "      <td>2.69</td>\n",
       "      <td>0.39</td>\n",
       "      <td>1.82</td>\n",
       "      <td>4.32</td>\n",
       "      <td>1.04</td>\n",
       "      <td>2.93</td>\n",
       "      <td>735</td>\n",
       "    </tr>\n",
       "    <tr>\n",
       "      <th>...</th>\n",
       "      <td>...</td>\n",
       "      <td>...</td>\n",
       "      <td>...</td>\n",
       "      <td>...</td>\n",
       "      <td>...</td>\n",
       "      <td>...</td>\n",
       "      <td>...</td>\n",
       "      <td>...</td>\n",
       "      <td>...</td>\n",
       "      <td>...</td>\n",
       "      <td>...</td>\n",
       "      <td>...</td>\n",
       "      <td>...</td>\n",
       "      <td>...</td>\n",
       "    </tr>\n",
       "    <tr>\n",
       "      <th>173</th>\n",
       "      <td>3</td>\n",
       "      <td>13.71</td>\n",
       "      <td>5.65</td>\n",
       "      <td>2.45</td>\n",
       "      <td>20.5</td>\n",
       "      <td>95</td>\n",
       "      <td>1.68</td>\n",
       "      <td>0.61</td>\n",
       "      <td>0.52</td>\n",
       "      <td>1.06</td>\n",
       "      <td>7.70</td>\n",
       "      <td>0.64</td>\n",
       "      <td>1.74</td>\n",
       "      <td>740</td>\n",
       "    </tr>\n",
       "    <tr>\n",
       "      <th>174</th>\n",
       "      <td>3</td>\n",
       "      <td>13.40</td>\n",
       "      <td>3.91</td>\n",
       "      <td>2.48</td>\n",
       "      <td>23.0</td>\n",
       "      <td>102</td>\n",
       "      <td>1.80</td>\n",
       "      <td>0.75</td>\n",
       "      <td>0.43</td>\n",
       "      <td>1.41</td>\n",
       "      <td>7.30</td>\n",
       "      <td>0.70</td>\n",
       "      <td>1.56</td>\n",
       "      <td>750</td>\n",
       "    </tr>\n",
       "    <tr>\n",
       "      <th>175</th>\n",
       "      <td>3</td>\n",
       "      <td>13.27</td>\n",
       "      <td>4.28</td>\n",
       "      <td>2.26</td>\n",
       "      <td>20.0</td>\n",
       "      <td>120</td>\n",
       "      <td>1.59</td>\n",
       "      <td>0.69</td>\n",
       "      <td>0.43</td>\n",
       "      <td>1.35</td>\n",
       "      <td>10.20</td>\n",
       "      <td>0.59</td>\n",
       "      <td>1.56</td>\n",
       "      <td>835</td>\n",
       "    </tr>\n",
       "    <tr>\n",
       "      <th>176</th>\n",
       "      <td>3</td>\n",
       "      <td>13.17</td>\n",
       "      <td>2.59</td>\n",
       "      <td>2.37</td>\n",
       "      <td>20.0</td>\n",
       "      <td>120</td>\n",
       "      <td>1.65</td>\n",
       "      <td>0.68</td>\n",
       "      <td>0.53</td>\n",
       "      <td>1.46</td>\n",
       "      <td>9.30</td>\n",
       "      <td>0.60</td>\n",
       "      <td>1.62</td>\n",
       "      <td>840</td>\n",
       "    </tr>\n",
       "    <tr>\n",
       "      <th>177</th>\n",
       "      <td>3</td>\n",
       "      <td>14.13</td>\n",
       "      <td>4.10</td>\n",
       "      <td>2.74</td>\n",
       "      <td>24.5</td>\n",
       "      <td>96</td>\n",
       "      <td>2.05</td>\n",
       "      <td>0.76</td>\n",
       "      <td>0.56</td>\n",
       "      <td>1.35</td>\n",
       "      <td>9.20</td>\n",
       "      <td>0.61</td>\n",
       "      <td>1.60</td>\n",
       "      <td>560</td>\n",
       "    </tr>\n",
       "  </tbody>\n",
       "</table>\n",
       "<p>178 rows × 14 columns</p>\n",
       "</div>"
      ],
      "text/plain": [
       "     Class  Alcohol  Malic acid   Ash  Alcalinity of ash  Magnesium  \\\n",
       "0        1    14.23        1.71  2.43               15.6        127   \n",
       "1        1    13.20        1.78  2.14               11.2        100   \n",
       "2        1    13.16        2.36  2.67               18.6        101   \n",
       "3        1    14.37        1.95  2.50               16.8        113   \n",
       "4        1    13.24        2.59  2.87               21.0        118   \n",
       "..     ...      ...         ...   ...                ...        ...   \n",
       "173      3    13.71        5.65  2.45               20.5         95   \n",
       "174      3    13.40        3.91  2.48               23.0        102   \n",
       "175      3    13.27        4.28  2.26               20.0        120   \n",
       "176      3    13.17        2.59  2.37               20.0        120   \n",
       "177      3    14.13        4.10  2.74               24.5         96   \n",
       "\n",
       "     Total phenols  Flavanoids  Nonflavanoid phenols  Proanthocyanins  \\\n",
       "0             2.80        3.06                  0.28             2.29   \n",
       "1             2.65        2.76                  0.26             1.28   \n",
       "2             2.80        3.24                  0.30             2.81   \n",
       "3             3.85        3.49                  0.24             2.18   \n",
       "4             2.80        2.69                  0.39             1.82   \n",
       "..             ...         ...                   ...              ...   \n",
       "173           1.68        0.61                  0.52             1.06   \n",
       "174           1.80        0.75                  0.43             1.41   \n",
       "175           1.59        0.69                  0.43             1.35   \n",
       "176           1.65        0.68                  0.53             1.46   \n",
       "177           2.05        0.76                  0.56             1.35   \n",
       "\n",
       "     Color intensity   Hue  OD280/OD315 of diluted wines  Proline   \n",
       "0               5.64  1.04                          3.92      1065  \n",
       "1               4.38  1.05                          3.40      1050  \n",
       "2               5.68  1.03                          3.17      1185  \n",
       "3               7.80  0.86                          3.45      1480  \n",
       "4               4.32  1.04                          2.93       735  \n",
       "..               ...   ...                           ...       ...  \n",
       "173             7.70  0.64                          1.74       740  \n",
       "174             7.30  0.70                          1.56       750  \n",
       "175            10.20  0.59                          1.56       835  \n",
       "176             9.30  0.60                          1.62       840  \n",
       "177             9.20  0.61                          1.60       560  \n",
       "\n",
       "[178 rows x 14 columns]"
      ]
     },
     "execution_count": 1,
     "metadata": {},
     "output_type": "execute_result"
    }
   ],
   "source": [
    "import pandas as pd\n",
    "import numpy as np\n",
    "import seaborn as sns\n",
    "import matplotlib.pyplot as plt\n",
    "\n",
    "df = pd.read_csv(\"wine.csv\")\n",
    "df\n"
   ]
  },
  {
   "cell_type": "markdown",
   "id": "04941927",
   "metadata": {},
   "source": [
    "<h3> Preprocessing"
   ]
  },
  {
   "cell_type": "code",
   "execution_count": 3,
   "id": "1ceb5a55",
   "metadata": {},
   "outputs": [
    {
     "data": {
      "text/plain": [
       "Class                           False\n",
       "Alcohol                         False\n",
       "Malic acid                      False\n",
       "Ash                             False\n",
       "Alcalinity of ash               False\n",
       "Magnesium                       False\n",
       "Total phenols                   False\n",
       "Flavanoids                      False\n",
       "Nonflavanoid phenols            False\n",
       "Proanthocyanins                 False\n",
       "Color intensity                 False\n",
       "Hue                             False\n",
       "OD280/OD315 of diluted wines    False\n",
       "Proline                         False\n",
       "dtype: bool"
      ]
     },
     "execution_count": 3,
     "metadata": {},
     "output_type": "execute_result"
    }
   ],
   "source": [
    "df.isnull().any()"
   ]
  },
  {
   "cell_type": "markdown",
   "id": "3f811f26",
   "metadata": {},
   "source": [
    "<h3> Vizualizing distribution of numeric attributes"
   ]
  },
  {
   "cell_type": "code",
   "execution_count": 4,
   "id": "35b23320",
   "metadata": {},
   "outputs": [
    {
     "data": {
      "image/png": "[encoded data removed]",
      "text/plain": [
       "<Figure size 504x360 with 1 Axes>"
      ]
     },
     "metadata": {
      "needs_background": "light"
     },
     "output_type": "display_data"
    },
    {
     "data": {
      "image/png": "[encoded data removed]",
      "text/plain": [
       "<Figure size 504x360 with 1 Axes>"
      ]
     },
     "metadata": {
      "needs_background": "light"
     },
     "output_type": "display_data"
    },
    {
     "data": {
      "image/png": "[encoded data removed]",
      "text/plain": [
       "<Figure size 504x360 with 1 Axes>"
      ]
     },
     "metadata": {
      "needs_background": "light"
     },
     "output_type": "display_data"
    },
    {
     "data": {
      "image/png": "[encoded data removed]",
      "text/plain": [
       "<Figure size 504x360 with 1 Axes>"
      ]
     },
     "metadata": {
      "needs_background": "light"
     },
     "output_type": "display_data"
    },
    {
     "data": {
      "image/png": "[encoded data removed]",
      "text/plain": [
       "<Figure size 504x360 with 1 Axes>"
      ]
     },
     "metadata": {
      "needs_background": "light"
     },
     "output_type": "display_data"
    },
    {
     "data": {
      "image/png": "[encoded data removed]",
      "text/plain": [
       "<Figure size 504x360 with 1 Axes>"
      ]
     },
     "metadata": {
      "needs_background": "light"
     },
     "output_type": "display_data"
    },
    {
     "data": {
      "image/png": "[encoded data removed]",
      "text/plain": [
       "<Figure size 504x360 with 1 Axes>"
      ]
     },
     "metadata": {
      "needs_background": "light"
     },
     "output_type": "display_data"
    },
    {
     "data": {
      "image/png": "[encoded data removed]",
      "text/plain": [
       "<Figure size 504x360 with 1 Axes>"
      ]
     },
     "metadata": {
      "needs_background": "light"
     },
     "output_type": "display_data"
    },
    {
     "data": {
      "image/png": "[encoded data removed]",
      "text/plain": [
       "<Figure size 504x360 with 1 Axes>"
      ]
     },
     "metadata": {
      "needs_background": "light"
     },
     "output_type": "display_data"
    },
    {
     "data": {
      "image/png": "[encoded data removed]",
      "text/plain": [
       "<Figure size 504x360 with 1 Axes>"
      ]
     },
     "metadata": {
      "needs_background": "light"
     },
     "output_type": "display_data"
    },
    {
     "data": {
      "image/png": "[encoded data removed]",
      "text/plain": [
       "<Figure size 504x360 with 1 Axes>"
      ]
     },
     "metadata": {
      "needs_background": "light"
     },
     "output_type": "display_data"
    },
    {
     "data": {
      "image/png": "[encoded data removed]",
      "text/plain": [
       "<Figure size 504x360 with 1 Axes>"
      ]
     },
     "metadata": {
      "needs_background": "light"
     },
     "output_type": "display_data"
    },
    {
     "data": {
      "image/png": "[encoded data removed]",
      "text/plain": [
       "<Figure size 504x360 with 1 Axes>"
      ]
     },
     "metadata": {
      "needs_background": "light"
     },
     "output_type": "display_data"
    }
   ],
   "source": [
    "column = list(df.iloc[:,1:].columns)\n",
    "for i in range(len(column)):\n",
    "    plt.figure(figsize=(7,5))\n",
    "    sns.histplot(data=df,x=column[i])\n",
    "    plt.title(column[i])\n",
    "    plt.show()\n",
    "    "
   ]
  },
  {
   "cell_type": "markdown",
   "id": "c830b947",
   "metadata": {},
   "source": [
    "<h3> Separating the independent attributes from the target attribute"
   ]
  },
  {
   "cell_type": "code",
   "execution_count": 5,
   "id": "22843e17",
   "metadata": {},
   "outputs": [],
   "source": [
    "# Indepdent attributes\n",
    "x = df.iloc[:,1:]\n",
    "\n",
    "# Target Attribute\n",
    "y = df[\"Class\"]\n"
   ]
  },
  {
   "cell_type": "markdown",
   "id": "c627f8b9",
   "metadata": {},
   "source": [
    "<h3> Splitting the dataset into Train and Test"
   ]
  },
  {
   "cell_type": "code",
   "execution_count": 71,
   "id": "f27a6159",
   "metadata": {},
   "outputs": [],
   "source": [
    "# Splitting the dataset\n",
    "from sklearn.model_selection import train_test_split\n",
    "\n",
    "x_train,x_test,y_train,y_test = train_test_split(x,y,test_size=0.3,random_state=20)\n"
   ]
  },
  {
   "cell_type": "markdown",
   "id": "b090bb2f",
   "metadata": {},
   "source": [
    "<h3> Building Multi-Layer  Perceptron  Classifier  model (MLP)"
   ]
  },
  {
   "cell_type": "code",
   "execution_count": 72,
   "id": "93c6fc02",
   "metadata": {},
   "outputs": [
    {
     "name": "stdout",
     "output_type": "stream",
     "text": [
      "Iteration 1, loss = 1.35792395\n",
      "Iteration 2, loss = 14.39762700\n",
      "Iteration 3, loss = 3.25102946\n",
      "Iteration 4, loss = 1.61313640\n",
      "Iteration 5, loss = 1.25789461\n",
      "Iteration 6, loss = 9.23653201\n",
      "Iteration 7, loss = 0.98075108\n",
      "Iteration 8, loss = 1.01917629\n",
      "Iteration 9, loss = 0.69178270\n",
      "Iteration 10, loss = 0.56867761\n",
      "Iteration 11, loss = 0.37755884\n",
      "Iteration 12, loss = 0.28053610\n",
      "Iteration 13, loss = 0.10558224\n",
      "Iteration 14, loss = 0.04014478\n",
      "Iteration 15, loss = 0.02471921\n",
      "Iteration 16, loss = 0.05353405\n",
      "Iteration 17, loss = 0.02106085\n",
      "Iteration 18, loss = 0.02319961\n",
      "Iteration 19, loss = 0.03527537\n",
      "Iteration 20, loss = 0.03043772\n",
      "Iteration 21, loss = 0.29178968\n",
      "Iteration 22, loss = 0.28877953\n",
      "Iteration 23, loss = 0.02347360\n",
      "Iteration 24, loss = 0.00483171\n",
      "Iteration 25, loss = 0.00830031\n",
      "Iteration 26, loss = 0.00820174\n",
      "Iteration 27, loss = 0.01818088\n",
      "Iteration 28, loss = 0.02471734\n",
      "Iteration 29, loss = 0.06423364\n",
      "Iteration 30, loss = 0.14386838\n",
      "Iteration 31, loss = 0.16295921\n",
      "Iteration 32, loss = 0.47132467\n",
      "Iteration 33, loss = 0.37344291\n",
      "Iteration 34, loss = 0.21350795\n",
      "Iteration 35, loss = 0.20626223\n",
      "Training loss did not improve more than tol=0.000100 for 10 consecutive epochs. Stopping.\n"
     ]
    },
    {
     "data": {
      "text/plain": [
       "MLPClassifier(hidden_layer_sizes=(13, 13, 13), learning_rate_init=0.5,\n",
       "              max_iter=500, random_state=20, verbose=True)"
      ]
     },
     "execution_count": 72,
     "metadata": {},
     "output_type": "execute_result"
    }
   ],
   "source": [
    "# Import MLPClassifer \n",
    "from sklearn.neural_network import MLPClassifier\n",
    "from sklearn.preprocessing import RobustScaler\n",
    "x_train = RobustScaler().fit_transform(x_train)\n",
    "# Create model object\n",
    "clf = MLPClassifier(hidden_layer_sizes=(13,13,13),\n",
    "                    random_state=20,\n",
    "                    verbose=True,\n",
    "                    learning_rate_init=0.5,\n",
    "                    max_iter=500)\n",
    "\n",
    "# Fit data onto the model\n",
    "clf.fit(x_train,y_train)\n"
   ]
  },
  {
   "cell_type": "markdown",
   "id": "6f62142e",
   "metadata": {},
   "source": [
    "<h3> Model Evaluation"
   ]
  },
  {
   "cell_type": "code",
   "execution_count": 73,
   "id": "33f54d7e",
   "metadata": {},
   "outputs": [
    {
     "data": {
      "text/plain": [
       "0.9629629629629629"
      ]
     },
     "execution_count": 73,
     "metadata": {},
     "output_type": "execute_result"
    }
   ],
   "source": [
    "x_test = RobustScaler().fit_transform(x_test)\n",
    "# Make prediction on test dataset\n",
    "y_pred=clf.predict(x_test)\n",
    "\n",
    "# Import accuracy score \n",
    "from sklearn.metrics import accuracy_score\n",
    "\n",
    "# Calcuate accuracy\n",
    "clf.score(x_test,y_test)\n"
   ]
  },
  {
   "cell_type": "code",
   "execution_count": 74,
   "id": "e74cc208",
   "metadata": {},
   "outputs": [
    {
     "name": "stdout",
     "output_type": "stream",
     "text": [
      "Accuracy:  0.9629629629629629\n"
     ]
    }
   ],
   "source": [
    "# Finding Accuracy Score\n",
    "from sklearn.metrics import accuracy_score\n",
    "print(\"Accuracy: \",accuracy_score(y_test,y_pred))\n"
   ]
  },
  {
   "cell_type": "code",
   "execution_count": 78,
   "id": "4c5291aa",
   "metadata": {},
   "outputs": [
    {
     "name": "stdout",
     "output_type": "stream",
     "text": [
      "              precision    recall  f1-score   support\n",
      "\n",
      "           1       1.00      1.00      1.00        15\n",
      "           2       0.93      1.00      0.96        27\n",
      "           3       1.00      0.83      0.91        12\n",
      "\n",
      "    accuracy                           0.96        54\n",
      "   macro avg       0.98      0.94      0.96        54\n",
      "weighted avg       0.97      0.96      0.96        54\n",
      "\n"
     ]
    }
   ],
   "source": [
    "# Finding Precision, recall, F1-score\n",
    "from sklearn.metrics import classification_report\n",
    "print(classification_report(y_test,y_pred))\n"
   ]
  },
  {
   "cell_type": "markdown",
   "id": "4bb4e804",
   "metadata": {},
   "source": [
    "<h3> MLP weights and biase"
   ]
  },
  {
   "cell_type": "code",
   "execution_count": 191,
   "id": "586e00bc",
   "metadata": {},
   "outputs": [
    {
     "data": {
      "text/plain": [
       "[array([[ 3.61753397e-01, -7.74108501e-02,  1.55797580e-01,\n",
       "         -8.18360782e-02,  2.46556956e-02, -2.97405486e-01,\n",
       "         -9.57273708e-02,  1.81824387e-02, -1.82923285e-05,\n",
       "          1.38803677e-01,  8.72114196e-02,  1.01487633e-01,\n",
       "          1.97682715e-01],\n",
       "        [-2.17592478e-01, -9.45585276e-03, -1.69244783e-01,\n",
       "          1.69455584e-01, -4.30055078e-01,  4.63422351e-01,\n",
       "         -9.99049633e-02, -2.00055081e-01,  3.24241473e-06,\n",
       "          5.25374148e-01,  5.65891822e-02, -9.34931419e-01,\n",
       "         -5.90835690e-01],\n",
       "        [ 7.06738089e-02, -1.86627031e-02, -1.56334616e-01,\n",
       "         -7.65739665e-02,  1.51150411e-01, -2.14744882e-01,\n",
       "         -1.00240624e-01,  4.79010962e-02, -4.42299681e-06,\n",
       "         -3.20673259e-01, -5.73018325e-02, -1.60288835e-01,\n",
       "         -1.34650662e-01],\n",
       "        [ 6.43829285e-01, -8.23626222e-02, -1.57107406e-01,\n",
       "         -6.82097143e-02, -1.89497426e-01,  8.06915838e-02,\n",
       "         -9.46442658e-02, -6.41748888e-01, -1.46641932e-05,\n",
       "          2.10069364e-01,  4.01975594e-02,  1.54010252e-01,\n",
       "          2.68884500e-01],\n",
       "        [ 2.05971535e-01, -9.62685277e-02, -3.40149044e-01,\n",
       "         -8.90118990e-02,  4.20275380e-01, -2.03514173e-01,\n",
       "         -9.53072346e-02, -2.90646714e-01, -5.24743396e-02,\n",
       "          7.25115946e-04, -6.49279068e-02, -1.15546471e-01,\n",
       "         -1.03203594e-01],\n",
       "        [-1.99174405e-01, -2.75073299e-02, -6.73727637e-02,\n",
       "         -1.54143603e-01,  3.01720764e-01, -3.25194922e-01,\n",
       "         -8.99687760e-02, -9.05637336e-02, -6.67564551e-06,\n",
       "          3.34378122e-02, -1.23101633e-01,  6.52447554e-01,\n",
       "          1.72104101e-01],\n",
       "        [-1.10346963e+00, -2.69603014e-02,  4.89816249e-01,\n",
       "         -1.57644653e-01,  1.44327907e-02, -3.28438910e-01,\n",
       "          9.56794823e-02,  2.28273609e-01, -7.05805014e-06,\n",
       "         -4.24473159e-01, -1.09939942e-01,  1.06406902e+00,\n",
       "          4.43112023e-01],\n",
       "        [ 3.47933748e-01, -4.04613968e-05, -7.61447168e-01,\n",
       "          1.20358518e-01, -1.24126913e-01, -3.14523679e-01,\n",
       "         -8.29134690e-02, -1.07657568e-01, -1.73872642e-07,\n",
       "          3.26950427e-01,  7.06113612e-03, -2.53932395e-01,\n",
       "          1.14722556e-01],\n",
       "        [-3.13498453e-02, -1.44897476e-02,  3.60207356e-01,\n",
       "         -1.56520988e-01,  5.02439085e-01, -4.14748569e-01,\n",
       "         -2.29086458e-02, -3.32035887e-01, -3.34095184e-06,\n",
       "         -2.11600884e-01,  5.45195496e-02,  9.41548138e-01,\n",
       "          4.80184621e-01],\n",
       "        [-1.48921575e+00, -5.26975623e-02, -7.61973009e-01,\n",
       "          1.68497313e-01, -7.39414355e-02, -2.30217799e-02,\n",
       "         -1.04455680e-01,  1.11788843e-02,  8.80833597e-06,\n",
       "          4.28378359e-01, -4.74110205e-02, -1.28225126e+00,\n",
       "         -1.05586478e+00],\n",
       "        [ 8.65462332e-01, -5.11150886e-04,  6.80516713e-01,\n",
       "         -1.83063622e-01, -1.72954694e-01, -3.83748809e-01,\n",
       "          5.40757709e-03, -3.00239120e-01, -5.88869137e-07,\n",
       "         -2.46264773e-01,  2.44477357e-02,  1.19163347e+00,\n",
       "          9.21451967e-01],\n",
       "        [ 4.45808234e-01, -3.26273267e-02,  2.72483266e-01,\n",
       "         -1.66148890e-01,  1.21855534e-01, -5.08690803e-01,\n",
       "          9.09512874e-02, -5.36692714e-01,  3.06092273e-07,\n",
       "         -6.81695796e-01, -5.50643473e-02,  1.05155236e+00,\n",
       "          6.36212058e-01],\n",
       "        [ 1.77558444e-02, -9.86156446e-02,  1.67627860e-01,\n",
       "         -1.06572017e-01,  1.23508081e-01,  2.35781926e-01,\n",
       "         -9.67040175e-02,  1.62304042e-01, -7.57347432e-02,\n",
       "          5.52749284e-02, -8.91689527e-02,  2.82476728e-02,\n",
       "          1.39429027e-02]]),\n",
       " array([[-2.07806924e-06, -1.34884662e-06,  2.81878949e-01,\n",
       "         -8.28513404e-07,  8.04176882e-07,  2.12393899e-01,\n",
       "         -6.23472583e-07,  5.55180040e-02, -5.30169995e-02,\n",
       "          1.36750227e-01,  9.08555283e-07, -5.55023248e-01,\n",
       "         -6.78027097e-02],\n",
       "        [ 2.62206446e-07, -1.54769255e-07, -7.06095295e-02,\n",
       "         -6.89639186e-07,  4.80129591e-08, -4.71136816e-02,\n",
       "          8.54283694e-07,  1.82729588e-08,  2.44772252e-07,\n",
       "         -5.48755517e-02, -1.23000739e-06,  5.20157421e-02,\n",
       "          5.20779227e-02],\n",
       "        [ 2.23518745e-01, -2.08066846e-01, -1.86310243e-01,\n",
       "          2.73062035e-01, -2.12047883e-01,  2.90574303e-01,\n",
       "         -2.23005111e-02, -7.88631953e-02, -1.93378232e-02,\n",
       "         -1.59964237e-01,  6.39968038e-02,  7.75560919e-02,\n",
       "          4.58533371e-01],\n",
       "        [ 4.16359114e-06,  1.35476294e-06,  7.27850351e-02,\n",
       "         -3.11503015e-06,  3.49582862e-06,  6.26686155e-02,\n",
       "         -8.42404769e-09,  1.23129739e-06, -6.29405568e-07,\n",
       "         -5.78449700e-02,  5.66151473e-07,  9.02840355e-02,\n",
       "         -1.03602702e-01],\n",
       "        [ 1.71044979e-01,  1.27203708e-01,  9.09488116e-02,\n",
       "         -1.06119726e-01,  1.20330565e-01,  2.15910842e-01,\n",
       "         -3.86486498e-01, -6.08355147e-02, -6.26149496e-02,\n",
       "          8.30918856e-02, -6.46935713e-02, -9.77522890e-02,\n",
       "          9.91863359e-02],\n",
       "        [-4.47136757e-01, -2.32596497e-01,  2.08940438e-01,\n",
       "         -2.92846333e-01, -6.37542088e-02, -1.45542641e-01,\n",
       "          2.57334263e-01, -2.01317586e-01, -4.66517128e-02,\n",
       "          2.52722389e-01, -3.01457981e-02,  2.85700602e-01,\n",
       "          2.61172069e-01],\n",
       "        [ 4.00098445e-07, -2.45111599e-07, -9.67520389e-02,\n",
       "         -1.66256047e-07,  6.69467749e-07, -9.69088745e-02,\n",
       "         -3.99298333e-06, -8.16843732e-08, -5.03105946e-07,\n",
       "         -1.10332410e-01,  2.57041582e-07,  1.04925933e-01,\n",
       "          9.75323667e-02],\n",
       "        [ 6.21740334e-08,  1.66085675e-07, -3.76577981e-01,\n",
       "         -4.55065782e-01,  1.88398544e-07, -2.14121820e-01,\n",
       "         -2.09941083e-01,  1.97446153e-08, -2.23141220e-05,\n",
       "         -6.39411256e-02,  4.57057250e-02,  1.21367293e-01,\n",
       "         -2.28202797e-01],\n",
       "        [ 4.00131360e-07, -1.55500940e-07,  1.77410433e-05,\n",
       "         -2.13502074e-06, -1.29610954e-08,  3.61580524e-05,\n",
       "         -1.43247191e-08, -1.72288301e-07,  4.00925732e-07,\n",
       "          3.95090799e-04, -4.39301024e-09,  4.01542706e-03,\n",
       "          4.00608463e-06],\n",
       "        [-3.76173497e-01,  6.58658525e-02,  1.71927871e-01,\n",
       "         -1.32514731e-01, -4.38293594e-01, -3.40127595e-01,\n",
       "          3.86509482e-01, -1.37865005e-01, -5.40125746e-03,\n",
       "          3.98892602e-01, -1.61293544e-01, -5.16103096e-01,\n",
       "          1.79168272e-01],\n",
       "        [-1.29958797e-08,  7.71242392e-08,  1.02944421e-02,\n",
       "         -4.90885952e-07, -1.49827763e-06,  1.02700706e-05,\n",
       "         -4.03498484e-08, -3.22168732e-06,  1.45307909e-07,\n",
       "          6.02654059e-02,  9.46642358e-07,  2.01099452e-07,\n",
       "          4.79125897e-04],\n",
       "        [-1.84102539e-07, -6.93504149e-08, -1.21902553e-01,\n",
       "          7.84048814e-07, -1.43976564e-06,  8.00386420e-01,\n",
       "          1.18969724e-08, -2.89651198e-07, -1.17050837e-06,\n",
       "         -7.87674587e-01,  2.52271431e-07, -1.18390355e-01,\n",
       "         -2.65337933e-01],\n",
       "        [ 6.06689863e-07,  8.55759870e-07,  9.24801470e-02,\n",
       "         -4.89494200e-07, -2.05268394e-06,  3.80902520e-01,\n",
       "          4.18831112e-07,  4.28027200e-07, -1.81716998e-08,\n",
       "         -2.80616207e-01,  2.44727181e-07, -1.49981969e-02,\n",
       "         -2.23551130e-01]]),\n",
       " array([[-1.88681198e-06,  4.80016242e-02, -1.54716198e-01,\n",
       "          1.18573929e-01, -6.16724230e-02,  4.42538002e-08,\n",
       "         -1.33655933e-01,  1.57335718e-06,  1.31757915e-07,\n",
       "          6.89285313e-07, -2.18099803e-07,  1.99097474e-06,\n",
       "         -1.98140102e-06],\n",
       "        [ 9.21785309e-09,  2.05892813e-01,  8.44017560e-02,\n",
       "          4.18679216e-01,  1.97152427e-01, -2.45854313e-08,\n",
       "          1.08534634e-01,  3.51894819e-06,  5.87832513e-08,\n",
       "         -1.24566935e-06,  4.09155869e-07,  5.78520377e-07,\n",
       "          1.15630188e-06],\n",
       "        [-4.61916429e-01,  3.41576695e-01,  7.43400218e-02,\n",
       "          3.38770782e-01,  7.74883192e-02, -8.39192410e-02,\n",
       "          4.71549371e-01, -6.65582105e-06, -9.16168869e-02,\n",
       "          8.52544295e-02,  1.18668532e-01,  2.33530231e-01,\n",
       "         -3.70493281e-01],\n",
       "        [-2.69014618e-07,  7.33151868e-02, -8.81430945e-07,\n",
       "          1.82964352e-01, -4.75282855e-02, -2.78763184e-07,\n",
       "         -2.41741329e-01,  3.08296123e-07, -2.89515355e-07,\n",
       "          1.75282677e-06,  7.93993225e-09,  1.05956423e-06,\n",
       "          1.55655710e-07],\n",
       "        [ 4.41693107e-08,  2.20256165e-01,  4.20452741e-06,\n",
       "          3.14708691e-01,  3.24164416e-01,  1.34036875e-06,\n",
       "          1.10369449e-01, -3.59623567e-06,  1.68466902e-07,\n",
       "          8.22930121e-08,  7.38244539e-07, -8.68274011e-07,\n",
       "         -6.27966707e-07],\n",
       "        [-4.54587987e-01,  2.02758111e-01,  1.68104126e-01,\n",
       "          3.11581503e-01, -4.72832810e-01, -8.02796502e-02,\n",
       "          1.23463367e-02, -4.58391165e-03, -7.22771420e-02,\n",
       "         -8.46426083e-02,  3.03348508e-01, -9.67290518e-02,\n",
       "         -4.39802120e-02],\n",
       "        [ 2.73409858e-01,  3.94886676e-01,  3.81940324e-01,\n",
       "          3.06113317e-01, -4.31897145e-01,  7.00433548e-07,\n",
       "         -1.83614105e-01, -3.34791946e-08, -5.52861585e-08,\n",
       "          2.09461598e-01,  4.14196550e-06, -8.07220380e-07,\n",
       "         -2.93640646e-03],\n",
       "        [-4.02650379e-07, -6.39442248e-02, -2.89219711e-07,\n",
       "         -9.42797616e-02, -2.87375269e-07,  3.81929059e-06,\n",
       "          8.26102865e-03, -9.05209798e-07, -3.23753198e-08,\n",
       "          4.74101878e-08, -4.87572092e-09,  4.25567788e-07,\n",
       "         -8.79085127e-07],\n",
       "        [ 3.33070880e-07, -2.15506313e-06,  1.74980638e-07,\n",
       "          8.08631093e-06, -4.02409098e-06,  4.20843885e-06,\n",
       "          3.59063553e-07,  3.00911558e-06, -4.33311347e-07,\n",
       "         -4.75617911e-07, -1.39910316e-05, -4.16866551e-06,\n",
       "         -3.05120126e-06],\n",
       "        [ 3.00458261e-01, -6.38281795e-02, -2.06067325e-01,\n",
       "          9.04998512e-02,  3.02363125e-01, -6.54605110e-02,\n",
       "          4.80381130e-01, -1.18531462e-02, -9.40508234e-02,\n",
       "          5.23590838e-02, -1.27641154e-01,  1.64220524e-01,\n",
       "         -1.69999742e-01],\n",
       "        [-1.67762176e-01, -2.23201267e-01,  2.35938695e-01,\n",
       "         -5.32910868e-03,  2.26753535e-01, -1.88137252e-07,\n",
       "          4.85962299e-01, -3.02095416e-06, -8.31613429e-08,\n",
       "          2.67161682e-01, -4.11583188e-07,  2.55655276e-06,\n",
       "          1.46166809e-01],\n",
       "        [-6.58612058e-02, -2.94970679e-01,  1.68390131e-01,\n",
       "          2.68994831e-02,  3.86934559e-01,  1.08891195e-01,\n",
       "         -2.49734356e-02, -4.81564036e-03,  6.89006876e-08,\n",
       "         -2.97537146e-01, -1.67139398e-01,  8.98331654e-01,\n",
       "         -8.48351157e-03],\n",
       "        [-2.90261184e-01,  4.44956902e-01, -2.02889205e-01,\n",
       "          3.22539932e-01,  7.83904412e-02, -5.18550247e-02,\n",
       "         -2.79937541e-01, -3.34260064e-02, -1.18164460e-01,\n",
       "         -5.57200268e-01, -3.79523046e-02,  3.37235203e-03,\n",
       "          1.86708257e-01]]),\n",
       " array([[ 9.15067045e-02,  3.47443602e-01,  1.20880714e-02],\n",
       "        [-4.60179265e-01, -2.13873292e-01,  3.55431221e-02],\n",
       "        [-7.04977800e-02,  2.81442827e-01, -4.14935299e-01],\n",
       "        [ 2.59935705e-01, -4.51702440e-02, -3.35585523e-01],\n",
       "        [ 2.67174185e-01,  4.46810654e-02,  5.04837855e-01],\n",
       "        [-1.45915829e-01,  1.43646553e-01,  4.96532483e-02],\n",
       "        [-5.47983759e-01, -2.01724596e-01, -1.76419719e-01],\n",
       "        [-7.08827115e-06,  4.39567165e-06, -3.00312319e-07],\n",
       "        [-1.76682457e-06,  4.03221147e-02, -2.56387497e-02],\n",
       "        [ 5.22109104e-01,  5.26470363e-01, -3.95408067e-01],\n",
       "        [ 1.42585712e-01,  8.96255428e-01, -1.31112396e+00],\n",
       "        [ 3.99139413e-02, -1.44810353e-01,  2.22086065e-01],\n",
       "        [ 4.14365272e-01,  3.93040253e-01, -1.07748626e+00]])]"
      ]
     },
     "execution_count": 191,
     "metadata": {},
     "output_type": "execute_result"
    }
   ],
   "source": [
    "clf.coefs_"
   ]
  },
  {
   "cell_type": "code",
   "execution_count": 192,
   "id": "460bca81",
   "metadata": {},
   "outputs": [
    {
     "data": {
      "text/plain": [
       "[array([ 1.23736116, -0.25861833, -0.47744642, -0.12797773,  0.15546408,\n",
       "         0.22311351,  0.16636741, -0.59468398, -0.29557232, -0.06937424,\n",
       "         0.17321866,  0.69167809,  0.85107629]),\n",
       " array([-3.86413709e-01, -5.31603124e-01,  6.23707564e-01, -4.62936857e-01,\n",
       "        -6.56815142e-02,  9.10857998e-05,  3.34700901e-01, -4.05252035e-02,\n",
       "         2.22958718e-01, -4.45762657e-01, -3.74934467e-01,  1.49221826e-01,\n",
       "        -1.20376799e-01]),\n",
       " array([-0.11699586,  0.30909915, -0.41992205,  0.23393869, -0.11143434,\n",
       "         0.52223776,  0.38193611,  0.30704071,  0.36767235, -0.17494129,\n",
       "         0.98252864, -0.41870758, -0.58667935]),\n",
       " array([ 0.16155793, -0.04401102,  0.43662766])]"
      ]
     },
     "execution_count": 192,
     "metadata": {},
     "output_type": "execute_result"
    }
   ],
   "source": [
    "clf.intercepts_"
   ]
  },
  {
   "cell_type": "code",
   "execution_count": null,
   "id": "db76a9f9",
   "metadata": {},
   "outputs": [],
   "source": []
  }
 ],
 "metadata": {
  "kernelspec": {
   "display_name": "Python 3 (ipykernel)",
   "language": "python",
   "name": "python3"
  },
  "language_info": {
   "codemirror_mode": {
    "name": "ipython",
    "version": 3
   },
   "file_extension": ".py",
   "mimetype": "text/x-python",
   "name": "python",
   "nbconvert_exporter": "python",
   "pygments_lexer": "ipython3",
   "version": "3.9.12"
  }
 },
 "nbformat": 4,
 "nbformat_minor": 5
}
